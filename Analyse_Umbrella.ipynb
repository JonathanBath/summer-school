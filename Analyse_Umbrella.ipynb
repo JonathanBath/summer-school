{
  "nbformat": 4,
  "nbformat_minor": 0,
  "metadata": {
    "colab": {
      "name": "Analyse_Umbrella.ipynb",
      "provenance": [],
      "authorship_tag": "ABX9TyNyqzvub0HDuqMtMWJ9Ybbf",
      "include_colab_link": true
    },
    "kernelspec": {
      "name": "python3",
      "display_name": "Python 3"
    }
  },
  "cells": [
    {
      "cell_type": "markdown",
      "metadata": {
        "id": "view-in-github",
        "colab_type": "text"
      },
      "source": [
        "<a href=\"https://colab.research.google.com/github/JonathanBath/summer-school/blob/master/Analyse_Umbrella.ipynb\" target=\"_parent\"><img src=\"https://colab.research.google.com/assets/colab-badge.svg\" alt=\"Open In Colab\"/></a>"
      ]
    },
    {
      "cell_type": "code",
      "metadata": {
        "id": "A4Ra2sfFcDxD",
        "colab_type": "code",
        "colab": {
          "base_uri": "https://localhost:8080/",
          "height": 143
        },
        "outputId": "db5ff8a0-71f6-45fb-ba80-0d78ec780e4d"
      },
      "source": [
        "!git clone https://github.com/JonathanBath/summer-school.git"
      ],
      "execution_count": 1,
      "outputs": [
        {
          "output_type": "stream",
          "text": [
            "Cloning into 'summer-school'...\n",
            "remote: Enumerating objects: 3, done.\u001b[K\n",
            "remote: Counting objects: 100% (3/3), done.\u001b[K\n",
            "remote: Compressing objects: 100% (3/3), done.\u001b[K\n",
            "remote: Total 243 (delta 0), reused 0 (delta 0), pack-reused 240\u001b[K\n",
            "Receiving objects: 100% (243/243), 12.01 MiB | 6.67 MiB/s, done.\n",
            "Resolving deltas: 100% (63/63), done.\n"
          ],
          "name": "stdout"
        }
      ]
    },
    {
      "cell_type": "code",
      "metadata": {
        "id": "bREeM3rYb3F1",
        "colab_type": "code",
        "colab": {
          "base_uri": "https://localhost:8080/",
          "height": 305
        },
        "outputId": "f1ec0732-c84e-48a2-9229-ffccb2cacbfe"
      },
      "source": [
        "# change directory to 'four', 'five', 'six' for simulations at 30, 40 and 50°C\n",
        "directory = '/content/summer-school/five'\n",
        "\n",
        "import pandas as pd\n",
        "import numpy as np\n",
        "import seaborn as sns\n",
        "import os\n",
        "from functools import reduce\n",
        "\n",
        "%cd $directory\n",
        "files = os.listdir();\n",
        "\n",
        "names = ['Q1','Q2','biased','unbiased','whitespace']\n",
        "\n",
        "# load all data\n",
        "data = [pd.read_csv(file, sep=' ', comment='#', names=names).set_index(['Q1','Q2']).drop(['biased','whitespace'], axis=1) for file in files]\n",
        "\n",
        "# add data for each simulation\n",
        "data = reduce(lambda x, y: x.add(y, fill_value=0), data)\n",
        "\n",
        "data = data['unbiased'].to_numpy()\n",
        "data = data.reshape(6,6)\n",
        "RT = (1.987 * 303) / 1000 \n",
        "\n",
        "anticodonWins = data[5,0]\n",
        "\n",
        "ratio = data/anticodonWins\n",
        "\n",
        "np.seterr(divide = 'ignore') \n",
        "dG = -RT * np.log2(ratio)\n",
        "dG[5,0]*=-1\n",
        "fig = sns.heatmap(np.ma.masked_invalid(dG), cmap='summer', annot=True, fmt='.2f', vmin=0, vmax=12, square=True);\n",
        "fig.set(xlabel='$Q_A$', ylabel = '$Q_T$');"
      ],
      "execution_count": 5,
      "outputs": [
        {
          "output_type": "stream",
          "text": [
            "/content/summer-school/five\n"
          ],
          "name": "stdout"
        },
        {
          "output_type": "display_data",
          "data": {
            "image/png": "[encoded data removed]",
            "text/plain": [
              "<Figure size 432x288 with 2 Axes>"
            ]
          },
          "metadata": {
            "tags": [],
            "needs_background": "light"
          }
        }
      ]
    },
    {
      "cell_type": "markdown",
      "metadata": {
        "id": "Fz-vtZarR6mZ",
        "colab_type": "text"
      },
      "source": [
        "The way that this simulation works is that the system keeps count of how often each state is visited. The 'anticodon wins' state in the top right ($Q_A = 5, Q_T = 0$), the 'transfer wins' state in the bottom left ($Q_A = 0, Q_T = 5$) and all intermediate states. The more stable a state, the more time the simulation will spend in that state.\n",
        "\n",
        "The plot shows $\\Delta G$, the stability of each state relative to the 'transfer wins' state. The higher the $\\Delta G$, the less often the state is visited in the simulation and the less stable the state is.\n",
        "\n",
        "What we want to learn from the system is the difference in stability between the 'transfer wins' and the 'anticodon' wins.\n",
        "\n",
        "For the simulation at 40°C, $\\Delta G = 2.86\\text{ }kcal\\text{ }mol^{-1}$\n",
        "\n",
        "$\\Delta G = - RT ln K$\n",
        "\n",
        "$(R = 1.987 cal / mol / K, T = 313 K)$\n",
        "\n",
        "$K = \\frac{\\text{anticodon wins}}{\\text{transfer wins}} = e^{-\\frac{\\Delta G }{RT}}$"
      ]
    },
    {
      "cell_type": "code",
      "metadata": {
        "id": "NOebCYs-MMDd",
        "colab_type": "code",
        "colab": {
          "base_uri": "https://localhost:8080/",
          "height": 35
        },
        "outputId": "f93ddef7-f814-4889-9681-8d9248639656"
      },
      "source": [
        "import math\n",
        "K = math.exp(-2860/(1.987*313))\n",
        "1/K # the transfer wins state is more stable than the anticodon wins state by 100 fold"
      ],
      "execution_count": 4,
      "outputs": [
        {
          "output_type": "execute_result",
          "data": {
            "text/plain": [
              "99.34323474508152"
            ]
          },
          "metadata": {
            "tags": []
          },
          "execution_count": 4
        }
      ]
    }
  ]
}