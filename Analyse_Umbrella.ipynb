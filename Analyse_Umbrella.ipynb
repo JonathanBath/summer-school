{
  "nbformat": 4,
  "nbformat_minor": 0,
  "metadata": {
    "colab": {
      "name": "Analyse_Umbrella.ipynb",
      "provenance": [],
      "authorship_tag": "ABX9TyPpX1wgx0r60VM0Jd67Oy8a",
      "include_colab_link": true
    },
    "kernelspec": {
      "name": "python3",
      "display_name": "Python 3"
    }
  },
  "cells": [
    {
      "cell_type": "markdown",
      "metadata": {
        "id": "view-in-github",
        "colab_type": "text"
      },
      "source": [
        "<a href=\"https://colab.research.google.com/github/JonathanBath/summer-school/blob/master/Analyse_Umbrella.ipynb\" target=\"_parent\"><img src=\"https://colab.research.google.com/assets/colab-badge.svg\" alt=\"Open In Colab\"/></a>"
      ]
    },
    {
      "cell_type": "code",
      "metadata": {
        "id": "A4Ra2sfFcDxD",
        "colab_type": "code",
        "colab": {
          "base_uri": "https://localhost:8080/",
          "height": 143
        },
        "outputId": "227f1979-2cf3-4beb-ea87-2bfeda53d0a4"
      },
      "source": [
        "!git clone https://github.com/JonathanBath/summer-school.git"
      ],
      "execution_count": 1,
      "outputs": [
        {
          "output_type": "stream",
          "text": [
            "Cloning into 'summer-school'...\n",
            "remote: Enumerating objects: 69, done.\u001b[K\n",
            "remote: Counting objects: 100% (69/69), done.\u001b[K\n",
            "remote: Compressing objects: 100% (67/67), done.\u001b[K\n",
            "remote: Total 216 (delta 6), reused 5 (delta 2), pack-reused 147\u001b[K\n",
            "Receiving objects: 100% (216/216), 11.59 MiB | 20.90 MiB/s, done.\n",
            "Resolving deltas: 100% (51/51), done.\n"
          ],
          "name": "stdout"
        }
      ]
    },
    {
      "cell_type": "code",
      "metadata": {
        "id": "bREeM3rYb3F1",
        "colab_type": "code",
        "colab": {
          "base_uri": "https://localhost:8080/",
          "height": 287
        },
        "outputId": "ab66d76b-a3b3-40bb-e305-3e6f0e0f666b"
      },
      "source": [
        "# change directory to 'four', 'five', 'six' for simulations at 30, 40 and 50°C\n",
        "directory = '/content/summer-school/four'\n",
        "\n",
        "import pandas as pd\n",
        "import numpy as np\n",
        "import seaborn as sns\n",
        "import os\n",
        "from functools import reduce\n",
        "\n",
        "%cd $directory\n",
        "files = os.listdir();\n",
        "\n",
        "names = ['Q1','Q2','biased','unbiased','whitespace']\n",
        "\n",
        "# load all data\n",
        "data = [pd.read_csv(file, sep=' ', comment='#', names=names).set_index(['Q1','Q2']).drop(['biased','whitespace'], axis=1) for file in files]\n",
        "\n",
        "# add data for each simulation\n",
        "data = reduce(lambda x, y: x.add(y, fill_value=0), data)\n",
        "\n",
        "data = data['unbiased'].to_numpy()\n",
        "data = data.reshape(6,6)\n",
        "RT = (1.987 * 303) / 1000 \n",
        "\n",
        "anticodonWins = data[5,0]\n",
        "\n",
        "ratio = data/anticodonWins\n",
        "\n",
        "np.seterr(divide = 'ignore') \n",
        "dG = -RT * np.log2(ratio)\n",
        "sns.heatmap(np.ma.masked_invalid(dG), cmap='summer', annot=True, fmt='.2f', vmin=0, vmax=12, square=True);\n"
      ],
      "execution_count": 13,
      "outputs": [
        {
          "output_type": "stream",
          "text": [
            "/content/summer-school/four\n"
          ],
          "name": "stdout"
        },
        {
          "output_type": "display_data",
          "data": {
            "image/png": "[encoded data removed]",
            "text/plain": [
              "<Figure size 432x288 with 2 Axes>"
            ]
          },
          "metadata": {
            "tags": [],
            "needs_background": "light"
          }
        }
      ]
    },
    {
      "cell_type": "code",
      "metadata": {
        "id": "SrawlDFsRo7O",
        "colab_type": "code",
        "colab": {
          "base_uri": "https://localhost:8080/",
          "height": 233
        },
        "outputId": "a23fec3e-3cc2-468f-8b6f-ab3b31452786"
      },
      "source": [
        "dG"
      ],
      "execution_count": 8,
      "outputs": [
        {
          "output_type": "execute_result",
          "data": {
            "text/plain": [
              "array([[ 9.75244739, 11.22712906,  8.41923507,  6.59403706,  4.36981583,\n",
              "         2.00440272],\n",
              "       [ 8.28492495,  9.44364764,  7.00319907,  5.02217713,  3.43550923,\n",
              "                inf],\n",
              "       [ 5.73014994,  7.0439809 ,  5.14162538,  3.54828261,         inf,\n",
              "                inf],\n",
              "       [ 3.96330523,  4.93184597,  3.55342174,         inf,         inf,\n",
              "                inf],\n",
              "       [ 1.69075182,  3.1348566 ,         inf,         inf,         inf,\n",
              "                inf],\n",
              "       [-0.        ,         inf,         inf,         inf,         inf,\n",
              "                inf]])"
            ]
          },
          "metadata": {
            "tags": []
          },
          "execution_count": 8
        }
      ]
    },
    {
      "cell_type": "code",
      "metadata": {
        "id": "NOebCYs-MMDd",
        "colab_type": "code",
        "colab": {}
      },
      "source": [
        ""
      ],
      "execution_count": null,
      "outputs": []
    }
  ]
}