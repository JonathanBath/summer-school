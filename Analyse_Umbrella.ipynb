{
  "nbformat": 4,
  "nbformat_minor": 0,
  "metadata": {
    "colab": {
      "name": "Analyse_Umbrella.ipynb",
      "provenance": [],
      "authorship_tag": "ABX9TyPJNlB6hP2qlR0WZ8w7MI6r",
      "include_colab_link": true
    },
    "kernelspec": {
      "name": "python3",
      "display_name": "Python 3"
    }
  },
  "cells": [
    {
      "cell_type": "markdown",
      "metadata": {
        "id": "view-in-github",
        "colab_type": "text"
      },
      "source": [
        "<a href=\"https://colab.research.google.com/github/JonathanBath/summer-school/blob/master/Analyse_Umbrella.ipynb\" target=\"_parent\"><img src=\"https://colab.research.google.com/assets/colab-badge.svg\" alt=\"Open In Colab\"/></a>"
      ]
    },
    {
      "cell_type": "code",
      "metadata": {
        "id": "A4Ra2sfFcDxD",
        "colab_type": "code",
        "colab": {
          "base_uri": "https://localhost:8080/",
          "height": 102
        },
        "outputId": "2be46efd-8bd8-4c7e-c756-892e8c683661"
      },
      "source": [
        "!git clone https://github.com/JonathanBath/summer-school.git"
      ],
      "execution_count": 3,
      "outputs": [
        {
          "output_type": "stream",
          "text": [
            "Cloning into 'summer-school'...\n",
            "remote: Enumerating objects: 147, done.\u001b[K\n",
            "remote: Total 147 (delta 0), reused 0 (delta 0), pack-reused 147\u001b[K\n",
            "Receiving objects: 100% (147/147), 11.55 MiB | 15.56 MiB/s, done.\n",
            "Resolving deltas: 100% (45/45), done.\n"
          ],
          "name": "stdout"
        }
      ]
    },
    {
      "cell_type": "code",
      "metadata": {
        "id": "bREeM3rYb3F1",
        "colab_type": "code",
        "colab": {
          "base_uri": "https://localhost:8080/",
          "height": 286
        },
        "outputId": "5266c443-d800-455d-c24a-6522847200c2"
      },
      "source": [
        "# change directory to 'four', 'five', 'six' for simulations at 30, 40 and 50°C\n",
        "directory = '/content/summer-school/six'\n",
        "\n",
        "import pandas as pd\n",
        "import numpy as np\n",
        "import seaborn as sns\n",
        "import os\n",
        "from functools import reduce\n",
        "\n",
        "%cd $directory\n",
        "files = os.listdir();\n",
        "\n",
        "names = ['Q1','Q2','biased','unbiased','whitespace']\n",
        "\n",
        "# load all data\n",
        "data = [pd.read_csv(file, sep=' ', comment='#', names=names).set_index(['Q1','Q2']).drop(['biased','whitespace'], axis=1) for file in files]\n",
        "\n",
        "# add data for each simulation\n",
        "data = reduce(lambda x, y: x.add(y, fill_value=0), data)\n",
        "\n",
        "data = data['unbiased'].to_numpy()\n",
        "data = data.reshape(6,6)\n",
        "RT = (1.987 * 303) / 1000 \n",
        "\n",
        "anticodonWins = data[5,0]\n",
        "\n",
        "ratio = data/anticodonWins\n",
        "\n",
        "np.seterr(divide = 'ignore') \n",
        "dG = -RT * np.log2(ratio)\n",
        "sns.heatmap(np.ma.masked_invalid(dG), cmap='summer', vmin=0, vmax=12, square=True);\n"
      ],
      "execution_count": 143,
      "outputs": [
        {
          "output_type": "stream",
          "text": [
            "/content/summer-school/six\n"
          ],
          "name": "stdout"
        },
        {
          "output_type": "display_data",
          "data": {
            "image/png": "[encoded data removed]",
            "text/plain": [
              "<Figure size 432x288 with 2 Axes>"
            ]
          },
          "metadata": {
            "tags": [],
            "needs_background": "light"
          }
        }
      ]
    },
    {
      "cell_type": "code",
      "metadata": {
        "id": "SrawlDFsRo7O",
        "colab_type": "code",
        "colab": {}
      },
      "source": [
        ""
      ],
      "execution_count": null,
      "outputs": []
    }
  ]
}