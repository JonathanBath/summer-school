{
  "nbformat": 4,
  "nbformat_minor": 0,
  "metadata": {
    "colab": {
      "name": "pandas.ipynb",
      "provenance": [],
      "collapsed_sections": [],
      "authorship_tag": "ABX9TyNJ2dFzX1dyWgMlI3GIkEP8",
      "include_colab_link": true
    },
    "kernelspec": {
      "name": "python3",
      "display_name": "Python 3"
    }
  },
  "cells": [
    {
      "cell_type": "markdown",
      "metadata": {
        "id": "view-in-github",
        "colab_type": "text"
      },
      "source": [
        "<a href=\"https://colab.research.google.com/github/JonathanBath/summer-school/blob/master/AnalyseMD.ipynb\" target=\"_parent\"><img src=\"https://colab.research.google.com/assets/colab-badge.svg\" alt=\"Open In Colab\"/></a>"
      ]
    },
    {
      "cell_type": "markdown",
      "metadata": {
        "id": "QMCw3BGNOAul",
        "colab_type": "text"
      },
      "source": [
        "# This notebook will show a plot of the simulation trajectory\n",
        "\n",
        "Three moecular dynamics simulations were run at the univeristy computing facility (each one ran for 8 hours).\n",
        "\n",
        "Compare the three simulations (change the line `bonds = one` in the code below"
      ]
    },
    {
      "cell_type": "code",
      "metadata": {
        "id": "AbSn3Okd3vDr",
        "colab_type": "code",
        "colab": {
          "base_uri": "https://localhost:8080/",
          "height": 248
        },
        "outputId": "b4e850e9-bd43-408a-e290-a8d70368a2f6"
      },
      "source": [
        "one = '/content/summer-school/one/bonds.txt'\n",
        "two = '/content/summer-school/two/bonds.txt'\n",
        "three = '/content/summer-school/three/bonds.txt'\n",
        "\n",
        "# change bonds for one, two or three to load simulation one, two or three\n",
        "bonds = one\n",
        "\n",
        "import pandas as pd\n",
        "import numpy as np\n",
        "import seaborn as sns\n",
        "\n",
        "names = ['id1','id2','FENE','BEXC','STCK','NEXC','HB','CRSTCK','CXSTCK','DH','total']\n",
        "\n",
        "data = pd.read_csv(bonds, sep=' ', comment='#', names=names)\n",
        "time_steps = data.index[(data['id1']==0)&(data['id2']==1)].tolist()\n",
        "time_steps.append(-1)\n",
        "trajectory = [data.iloc[start:end].set_index(['id1','id2']) for start, end in zip(time_steps[0:-2],time_steps[1:])]\n",
        "\n",
        "rules = [(15,61),(16,60),(17,59),(18,58),(19,57),(20,56),(16,55),(17,54),(18,53),(19,52),(20,51)]\n",
        "\n",
        "filtered_trajectory = [timestep[timestep.index.isin(rules)] for timestep in trajectory]\n",
        "mask = pd.DataFrame(rules, columns=['id1','id2']).set_index(['id1','id2']);\n",
        "rule_trajectory = [timestep.add(mask, fill_value=0).fillna(0).HB for timestep in filtered_trajectory]\n",
        "rule_trajectory = pd.concat(rule_trajectory,axis=1)\n",
        "rule_trajectory = rule_trajectory.reset_index().sort_values(by=['id2'])\n",
        "fig = sns.heatmap(rule_trajectory['HB'].replace(0,np.nan), cmap='summer', xticklabels=False, yticklabels=False, cbar=False)\n"
      ],
      "execution_count": 21,
      "outputs": [
        {
          "output_type": "display_data",
          "data": {
            "image/png": "[encoded data removed]",
            "text/plain": [
              "<Figure size 432x288 with 1 Axes>"
            ]
          },
          "metadata": {
            "tags": []
          }
        }
      ]
    },
    {
      "cell_type": "markdown",
      "metadata": {
        "id": "jGgizurqQAaR",
        "colab_type": "text"
      },
      "source": [
        "The simulation runs from left to right (so the x-axis is something similar to time).\n",
        "\n",
        "Each horizontal slice represents one snapshot of the simulation and shows which positions are base paired at that instant (green for the strongest interaction fading to yellow for the weakest interaction, white if there is no interaction).\n",
        "\n",
        "You can see that the plot divides horizontally into two halves, the top half is green when the transfer strand has won the competition, the bottom half is green when the transfer strand has won the competition."
      ]
    },
    {
      "cell_type": "markdown",
      "metadata": {
        "id": "DTaKydhGQb2j",
        "colab_type": "text"
      },
      "source": [
        ""
      ]
    }
  ]
}